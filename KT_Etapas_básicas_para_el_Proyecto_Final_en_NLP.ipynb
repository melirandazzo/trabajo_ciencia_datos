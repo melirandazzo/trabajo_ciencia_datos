{
  "nbformat": 4,
  "nbformat_minor": 0,
  "metadata": {
    "colab": {
      "provenance": [],
      "include_colab_link": true
    },
    "kernelspec": {
      "name": "python3",
      "display_name": "Python 3"
    },
    "language_info": {
      "name": "python"
    }
  },
  "cells": [
    {
      "cell_type": "markdown",
      "metadata": {
        "id": "view-in-github",
        "colab_type": "text"
      },
      "source": [
        "<a href=\"https://colab.research.google.com/github/melirandazzo/trabajo_ciencia_datos/blob/main/KT_Etapas_b%C3%A1sicas_para_el_Proyecto_Final_en_NLP.ipynb\" target=\"_parent\"><img src=\"https://colab.research.google.com/assets/colab-badge.svg\" alt=\"Open In Colab\"/></a>"
      ]
    },
    {
      "cell_type": "markdown",
      "source": [
        "# **Presentación del proyecto**"
      ],
      "metadata": {
        "id": "xzB4gwuwanKZ"
      }
    },
    {
      "cell_type": "markdown",
      "source": [
        "**Abstracto con Motivación y Audiencia**"
      ],
      "metadata": {
        "id": "-LhnW5JudMDZ"
      }
    },
    {
      "cell_type": "markdown",
      "source": [
        "**Contexto Comercial y Analítico**"
      ],
      "metadata": {
        "id": "9mUn43cZdP_t"
      }
    },
    {
      "cell_type": "markdown",
      "source": [
        "**Preguntas/Hipótesis a Resolver**"
      ],
      "metadata": {
        "id": "3KBMDl_bdkqX"
      }
    },
    {
      "cell_type": "markdown",
      "source": [
        "**Objetivo**"
      ],
      "metadata": {
        "id": "06Xa-Tilds7o"
      }
    },
    {
      "cell_type": "markdown",
      "source": [
        "# **Lectura de datos**"
      ],
      "metadata": {
        "id": "8wLoKhWWaqNa"
      }
    },
    {
      "cell_type": "markdown",
      "source": [
        "**Librerias necesarias**"
      ],
      "metadata": {
        "id": "0Pe1ER-7cSiB"
      }
    },
    {
      "cell_type": "code",
      "source": [],
      "metadata": {
        "id": "FshYZ8_0cR0U"
      },
      "execution_count": null,
      "outputs": []
    },
    {
      "cell_type": "markdown",
      "source": [
        "**Configuración del entorno de Python en Google Colab**"
      ],
      "metadata": {
        "id": "iS25rDiNcWoo"
      }
    },
    {
      "cell_type": "code",
      "source": [],
      "metadata": {
        "id": "WI7r7GcPaxfv"
      },
      "execution_count": null,
      "outputs": []
    },
    {
      "cell_type": "markdown",
      "source": [
        "**Lectura del corpus**"
      ],
      "metadata": {
        "id": "M58MXujYccl4"
      }
    },
    {
      "cell_type": "code",
      "source": [],
      "metadata": {
        "id": "lTis7QCwceYm"
      },
      "execution_count": null,
      "outputs": []
    },
    {
      "cell_type": "markdown",
      "source": [
        "**Análisis inicial**"
      ],
      "metadata": {
        "id": "iKtGzziecpLH"
      }
    },
    {
      "cell_type": "code",
      "source": [],
      "metadata": {
        "id": "hh1xD8TFc1EJ"
      },
      "execution_count": null,
      "outputs": []
    },
    {
      "cell_type": "markdown",
      "source": [
        "# **Análisis Exploratorio**"
      ],
      "metadata": {
        "id": "xyjs1qjza7Rf"
      }
    },
    {
      "cell_type": "markdown",
      "source": [
        "**Análisis de la Longitud de las Oraciones**"
      ],
      "metadata": {
        "id": "wLFe1k_UbgVx"
      }
    },
    {
      "cell_type": "code",
      "source": [],
      "metadata": {
        "id": "O1lqMImVbt1w"
      },
      "execution_count": null,
      "outputs": []
    },
    {
      "cell_type": "markdown",
      "source": [
        "**Análisis de la Frecuencia de Palabras**"
      ],
      "metadata": {
        "id": "fn8NOZ6CbmhS"
      }
    },
    {
      "cell_type": "code",
      "source": [],
      "metadata": {
        "id": "F1MaztRFbtcR"
      },
      "execution_count": null,
      "outputs": []
    },
    {
      "cell_type": "markdown",
      "source": [
        "**Análisis de las Partes del Discurso (POS)**"
      ],
      "metadata": {
        "id": "nx3h1AVKbmYv"
      }
    },
    {
      "cell_type": "code",
      "source": [],
      "metadata": {
        "id": "W7XGF7-1bHYe"
      },
      "execution_count": null,
      "outputs": []
    },
    {
      "cell_type": "markdown",
      "source": [
        "**Análisis de la Distribución de Longitud de Palabras**"
      ],
      "metadata": {
        "id": "rZ5VrhgGB4uN"
      }
    },
    {
      "cell_type": "code",
      "source": [],
      "metadata": {
        "id": "9mtK8HLVB5KW"
      },
      "execution_count": null,
      "outputs": []
    },
    {
      "cell_type": "markdown",
      "source": [
        "**Distribución de la Frecuencia de Palabras Únicas**"
      ],
      "metadata": {
        "id": "HLc-XdqtB5bl"
      }
    },
    {
      "cell_type": "code",
      "source": [],
      "metadata": {
        "id": "cpcmW56sB5_N"
      },
      "execution_count": null,
      "outputs": []
    },
    {
      "cell_type": "markdown",
      "source": [
        "**Análisis de N-gramas**"
      ],
      "metadata": {
        "id": "KbAmXRBzB6XN"
      }
    },
    {
      "cell_type": "code",
      "source": [],
      "metadata": {
        "id": "FItAZu_gB61l"
      },
      "execution_count": null,
      "outputs": []
    },
    {
      "cell_type": "markdown",
      "source": [
        "**Análisis de la Diversidad Léxica**"
      ],
      "metadata": {
        "id": "5JyEzM9MCTfL"
      }
    },
    {
      "cell_type": "code",
      "source": [],
      "metadata": {
        "id": "XekuB-U3CT75"
      },
      "execution_count": null,
      "outputs": []
    },
    {
      "cell_type": "markdown",
      "source": [
        "**Visualización de Palabras con Word Cloud**"
      ],
      "metadata": {
        "id": "wObRulzCCWmx"
      }
    },
    {
      "cell_type": "code",
      "source": [],
      "metadata": {
        "id": "KpIrW7MBCXIF"
      },
      "execution_count": null,
      "outputs": []
    },
    {
      "cell_type": "markdown",
      "source": [
        "**Conclusiones del Analisis exploratorio**"
      ],
      "metadata": {
        "id": "7y65fz63emSb"
      }
    },
    {
      "cell_type": "markdown",
      "source": [
        "# **Preprocesamiento del Texto**"
      ],
      "metadata": {
        "id": "WKhJae0nfQLH"
      }
    },
    {
      "cell_type": "markdown",
      "source": [
        "*Tokenización:*\n",
        "\n",
        "Tokenizar el texto en palabras, frases o párrafos según sea necesario.\n",
        "\n",
        "*Limpieza del Texto:*\n",
        "\n",
        "Convertir a minusculas, eliminar caracteres no deseados, stopwords, lematización, y stemming.\n",
        "\n",
        "*Análisis Léxico y Morfológico:*\n",
        "\n",
        "Identificación de partes del discurso (POS tagging) y análisis morfológico."
      ],
      "metadata": {
        "id": "DpQOFMv1DmSt"
      }
    },
    {
      "cell_type": "code",
      "source": [],
      "metadata": {
        "id": "PXrKwJjgDmu9"
      },
      "execution_count": null,
      "outputs": []
    },
    {
      "cell_type": "markdown",
      "source": [
        "**Análisis Sintáctico**"
      ],
      "metadata": {
        "id": "nGHEVFW6DnBN"
      }
    },
    {
      "cell_type": "markdown",
      "source": [
        "*Parsing:*\n",
        "\n",
        "Construir árboles sintácticos para las oraciones en el corpus.\n",
        "\n",
        "*Dependencia Sintáctica:*\n",
        "\n",
        "Análisis de dependencias para entender las relaciones gramaticales entre palabras."
      ],
      "metadata": {
        "id": "Jp0SBjsXEPko"
      }
    },
    {
      "cell_type": "code",
      "source": [],
      "metadata": {
        "id": "AmqHV1iRDniV"
      },
      "execution_count": null,
      "outputs": []
    },
    {
      "cell_type": "markdown",
      "source": [
        "**Análisis Semántico**"
      ],
      "metadata": {
        "id": "SkbZ_PoBE1Zb"
      }
    },
    {
      "cell_type": "markdown",
      "source": [
        "*Coreferencia:*\n",
        "\n",
        "Resolver las referencias cruzadas en el texto para entender a qué se refieren los pronombres y otras expresiones.\n",
        "\n",
        "*Análisis de Coherencia:*\n",
        "\n",
        "Evaluar la coherencia y cohesión del discurso."
      ],
      "metadata": {
        "id": "HL9J4ph5E_xU"
      }
    },
    {
      "cell_type": "code",
      "source": [],
      "metadata": {
        "id": "Inh_Xw-2FrpB"
      },
      "execution_count": null,
      "outputs": []
    },
    {
      "cell_type": "markdown",
      "source": [
        "**Análisis Pragmático**"
      ],
      "metadata": {
        "id": "X-WGsBlvFp1A"
      }
    },
    {
      "cell_type": "markdown",
      "source": [
        "*Análisis de Sentimientos:*\n",
        "\n",
        "Determinar el tono y las emociones expresadas en el texto.\n",
        "\n",
        "*Detección de Intenciones:*\n",
        "\n",
        "Identificar las intenciones detrás de las expresiones del texto."
      ],
      "metadata": {
        "id": "Truj09sYFf65"
      }
    },
    {
      "cell_type": "code",
      "source": [],
      "metadata": {
        "id": "VumFxByfFfX7"
      },
      "execution_count": null,
      "outputs": []
    },
    {
      "cell_type": "markdown",
      "source": [
        "**Codificación de texto a vectores**"
      ],
      "metadata": {
        "id": "V1E3hbAHf7ln"
      }
    },
    {
      "cell_type": "markdown",
      "source": [
        "Bag of word\n",
        "\n",
        "Tf-IDF\n",
        "\n",
        "Word Embendings\n"
      ],
      "metadata": {
        "id": "xZB_fxwEK0Vn"
      }
    },
    {
      "cell_type": "code",
      "source": [],
      "metadata": {
        "id": "Un_VYM2sfOdX"
      },
      "execution_count": null,
      "outputs": []
    },
    {
      "cell_type": "markdown",
      "source": [
        "#**Feature Selection**"
      ],
      "metadata": {
        "id": "qsJAf6eVgVsh"
      }
    },
    {
      "cell_type": "markdown",
      "source": [
        "**Selección de variable objetivo y variables independientes**"
      ],
      "metadata": {
        "id": "sQ3rpcC6gHu_"
      }
    },
    {
      "cell_type": "markdown",
      "source": [
        "**Clasificación de Texto**\n",
        "\n",
        "X (Entrada): Texto del documento (puede ser una oración, párrafo, o artículo completo).\n",
        "\n",
        "Y (Salida): Etiqueta de la categoría del texto (por ejemplo, \"positivo\" o \"negativo\" para análisis de sentimientos, o categorías como \"deportes\", \"política\", \"tecnología\" para clasificación de noticias).\n",
        "\n",
        "**Análisis de Sentimientos**\n",
        "\n",
        "X (Entrada): Texto del documento.\n",
        "\n",
        "Y (Salida): Sentimiento asociado (por ejemplo, \"positivo\", \"negativo\" o \"neutral\").\n",
        "\n",
        "**Reconocimiento de Entidades Nombradas (NER)**\n",
        "\n",
        "X (Entrada): Texto del documento.\n",
        "\n",
        "Y (Salida): Entidades reconocidas y sus categorías (por ejemplo, \"PERSONA\", \"ORGANIZACIÓN\", \"LUGAR\").\n",
        "\n",
        "**Traducción Automática**\n",
        "\n",
        "X (Entrada): Texto en el idioma de origen.\n",
        "\n",
        "Y (Salida): Texto traducido al idioma de destino.\n",
        "\n",
        "**Resumen de Texto**\n",
        "\n",
        "X (Entrada): Texto completo del documento.\n",
        "\n",
        "Y (Salida): Resumen del documento.\n",
        "\n",
        "**Generación de Texto**\n",
        "\n",
        "X (Entrada): Prompt o inicio de una frase o párrafo.\n",
        "\n",
        "Y (Salida): Texto generado continuando el prompt.\n",
        "\n",
        "**Modelos de Lenguaje (Language Modeling)**\n",
        "\n",
        "X (Entrada): Una secuencia de palabras o caracteres.\n",
        "\n",
        "Y (Salida): La siguiente palabra o carácter en la secuencia."
      ],
      "metadata": {
        "id": "5wbpIxX7_lJF"
      }
    },
    {
      "cell_type": "code",
      "source": [],
      "metadata": {
        "id": "25X23itFhSXR"
      },
      "execution_count": null,
      "outputs": []
    },
    {
      "cell_type": "markdown",
      "source": [
        "# **Modelos**"
      ],
      "metadata": {
        "id": "EuGuCd8JhWDf"
      }
    },
    {
      "cell_type": "markdown",
      "source": [
        "**Librerias necesarias para implementar los modelos**"
      ],
      "metadata": {
        "id": "TaaWLjOEmLMw"
      }
    },
    {
      "cell_type": "code",
      "source": [],
      "metadata": {
        "id": "aR6M78zonETX"
      },
      "execution_count": null,
      "outputs": []
    },
    {
      "cell_type": "markdown",
      "source": [
        "**División de datos en conjuntos de entrenamiento y prueba**"
      ],
      "metadata": {
        "id": "1k_6rL1Unv_Y"
      }
    },
    {
      "cell_type": "code",
      "source": [],
      "metadata": {
        "id": "vHo3cfZ5nwnB"
      },
      "execution_count": null,
      "outputs": []
    },
    {
      "cell_type": "markdown",
      "source": [
        "**Predicción con conjunto de prueba**"
      ],
      "metadata": {
        "id": "61vZign6qddW"
      }
    },
    {
      "cell_type": "code",
      "source": [],
      "metadata": {
        "id": "jFrlWDT5qc-I"
      },
      "execution_count": null,
      "outputs": []
    },
    {
      "cell_type": "markdown",
      "source": [
        "**Evaluación del rendimiento del modelo**"
      ],
      "metadata": {
        "id": "sDTCzTn_ihYe"
      }
    },
    {
      "cell_type": "code",
      "source": [],
      "metadata": {
        "id": "XWlaQbRanGHn"
      },
      "execution_count": null,
      "outputs": []
    },
    {
      "cell_type": "markdown",
      "source": [
        "**Conclusión sobre el modelado y las metricas**"
      ],
      "metadata": {
        "id": "cdcyJQcmqoGn"
      }
    },
    {
      "cell_type": "markdown",
      "source": [
        "#**Optimización de modelos**"
      ],
      "metadata": {
        "id": "s4oh4altclpl"
      }
    },
    {
      "cell_type": "code",
      "source": [],
      "metadata": {
        "id": "MMAxrfskckhu"
      },
      "execution_count": null,
      "outputs": []
    },
    {
      "cell_type": "markdown",
      "source": [
        "**Conclusión sobre la optimización**"
      ],
      "metadata": {
        "id": "nVeWizfMc3R9"
      }
    },
    {
      "cell_type": "markdown",
      "source": [
        "# **Conclusiones Finales**"
      ],
      "metadata": {
        "id": "ivjWtJ6bhZio"
      }
    },
    {
      "cell_type": "markdown",
      "source": [],
      "metadata": {
        "id": "J_lHwM-WiiGP"
      }
    }
  ]
}