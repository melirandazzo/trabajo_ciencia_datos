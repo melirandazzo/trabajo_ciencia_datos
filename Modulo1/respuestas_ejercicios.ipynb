{
  "nbformat": 4,
  "nbformat_minor": 0,
  "metadata": {
    "colab": {
      "provenance": []
    },
    "kernelspec": {
      "name": "python3",
      "display_name": "Python 3"
    },
    "language_info": {
      "name": "python"
    }
  },
  "cells": [
    {
      "cell_type": "markdown",
      "metadata": {
        "id": "EGwlI059Uj5b"
      },
      "source": [
        "Ejercicio 1) Construir una función que permita calcular el volumen de un cilindro, el programa debe permitir que el usuario pueda ingresar la altura y el radio, si uno de estos valores es negativo debe ser notificado por pantalla del error cometido\n",
        "."
      ]
    },
    {
      "cell_type": "code",
      "metadata": {
        "colab": {
          "base_uri": "https://localhost:8080/"
        },
        "id": "8i9Q9THU2Xjp",
        "outputId": "a09607b4-c4d5-4dd8-ba6f-d609de0b0576"
      },
      "source": [
        "def v_cilindro():\n",
        "    h=float(input(\"ingrese el valor de la altura: \"))\n",
        "    r=float(input(\"ingrese el valor del radio: \"))\n",
        "\n",
        "    if r<0 or h <0:\n",
        "        print(\"Usted ha ingresado uno o dos valores negativos, revise los datos nuevamente\")\n",
        "    else:\n",
        "        print(\"El volumen del cilindro es: \", 3.14*r**2*h)\n",
        "\n",
        "v_cilindro()"
      ],
      "execution_count": 1,
      "outputs": [
        {
          "output_type": "stream",
          "name": "stdout",
          "text": [
            "ingrese el valor de la altura: 5\n",
            "ingrese el valor del radio: 8\n",
            "El volumen del cilindro es:  1004.8000000000001\n"
          ]
        }
      ]
    },
    {
      "cell_type": "code",
      "source": [
        "def v_cilindro(h,r):\n",
        "\n",
        "    if int(r)<0 or int(h) <0:\n",
        "        print(\"Usted ha ingresado uno o dos valores negativos, revise los datos nuevamente\")\n",
        "    else:\n",
        "        print(\"El volumen del cilindro es: \", round(3.14*r**2*h,2))\n",
        "v_cilindro(8,6)"
      ],
      "metadata": {
        "id": "rAUEyVG7gvNm",
        "colab": {
          "base_uri": "https://localhost:8080/"
        },
        "outputId": "4ebb1c69-c29d-4766-f6aa-99846575fb46"
      },
      "execution_count": 2,
      "outputs": [
        {
          "output_type": "stream",
          "name": "stdout",
          "text": [
            "El volumen del cilindro es:  904.32\n"
          ]
        }
      ]
    },
    {
      "cell_type": "markdown",
      "source": [
        "Ejercicio 2) Construir una función que permita convertir de °F a °C"
      ],
      "metadata": {
        "id": "vmvvDZ7ksoWi"
      }
    },
    {
      "cell_type": "code",
      "source": [
        "def fahrenheit_a_celsius(fahrenheit):\n",
        "    celsius = (fahrenheit - 32) * 5/9\n",
        "    return celsius"
      ],
      "metadata": {
        "id": "1lRI8grQs3qV"
      },
      "execution_count": 3,
      "outputs": []
    },
    {
      "cell_type": "code",
      "source": [
        "# Convertir 88°F a °C\n",
        "celsius = fahrenheit_a_celsius(88)\n",
        "print(celsius)"
      ],
      "metadata": {
        "id": "zAKNDubMtGbF",
        "outputId": "ed93d5fe-4317-41be-8839-af2557510765",
        "colab": {
          "base_uri": "https://localhost:8080/"
        }
      },
      "execution_count": 4,
      "outputs": [
        {
          "output_type": "stream",
          "name": "stdout",
          "text": [
            "31.11111111111111\n"
          ]
        }
      ]
    },
    {
      "cell_type": "code",
      "metadata": {
        "colab": {
          "base_uri": "https://localhost:8080/"
        },
        "id": "qioYfr92Yq6O",
        "outputId": "acc67a74-9ed1-40eb-e8ab-a17b6b350840"
      },
      "source": [
        "#ejercicio 3\n",
        "#Escribir una función para calcular la suma de una serie comenzando por un número cualquiera y\n",
        "#terminando en otro número que debe ser mayor al primero.\n",
        "def suma():\n",
        "    x = int(input(\"ingrese el menor valor de la serie: \"))\n",
        "    y=  int(input(\"ingrese el mayor valor de la serie: \"))\n",
        "    contador=0\n",
        "\n",
        "    while x>y:\n",
        "        x = int(input(\"ingrese el menor valor de la serie: \"))\n",
        "        y=  int(input(\"ingrese el mayor valor de la serie: \"))\n",
        "\n",
        "    for i in range(x,y+1):\n",
        "        contador+=i\n",
        "    print(\"La sumatoria es: \", contador)\n",
        "\n",
        "suma()"
      ],
      "execution_count": 5,
      "outputs": [
        {
          "output_type": "stream",
          "name": "stdout",
          "text": [
            "ingrese el menor valor de la serie: 8\n",
            "ingrese el mayor valor de la serie: 9\n",
            "La sumatoria es:  17\n"
          ]
        }
      ]
    },
    {
      "cell_type": "code",
      "metadata": {
        "id": "CERw4SoiAW4i"
      },
      "source": [
        "# ejercicio 4\n",
        "#Escribir una función para calcular el factorial de un número cualquiera.\n",
        "def factorial_while(n):\n",
        "    fact=1\n",
        "    while n>0:\n",
        "        fact*=n\n",
        "        n-=1\n",
        "    return fact\n",
        "\n",
        "\n",
        "\n",
        "def factorial_for(n):\n",
        "    fact=1\n",
        "    for i in range(1, n+1):\n",
        "        fact*=i\n",
        "    return fact\n",
        "\n",
        "\n"
      ],
      "execution_count": 6,
      "outputs": []
    },
    {
      "cell_type": "code",
      "metadata": {
        "colab": {
          "base_uri": "https://localhost:8080/"
        },
        "id": "jcUp4nTPAh_4",
        "outputId": "f60d15a6-ed74-4aa0-e05e-46ae421a0596"
      },
      "source": [
        "factorial_while(10)"
      ],
      "execution_count": 7,
      "outputs": [
        {
          "output_type": "execute_result",
          "data": {
            "text/plain": [
              "3628800"
            ]
          },
          "metadata": {},
          "execution_count": 7
        }
      ]
    },
    {
      "cell_type": "markdown",
      "metadata": {
        "id": "m-LYrb9T2YI9"
      },
      "source": [
        "\n",
        "\n",
        "Ejercicio 5) Una pelota de goma cada vez que es arrojada desde una altura entre 10 y 1000 metros cuando toca el piso salta 3/5 de la altura desde la que cayó. Escribí un programa  que imprima  las alturas que alcanza en cada uno de sus rebotes con 1 decimal y guardelo en una lista. El usuario debe poder ingresar los rebotes y la altura."
      ]
    },
    {
      "cell_type": "code",
      "metadata": {
        "id": "KD84exzq5Xxq",
        "colab": {
          "base_uri": "https://localhost:8080/"
        },
        "outputId": "1902a50c-d130-49cb-d9b5-435aeb190a28"
      },
      "source": [
        "# ejercicio 5\n",
        "def pelota(rebotes, altura):\n",
        "    lista=[]\n",
        "\n",
        "    if altura >10 and altura<1000:\n",
        "        for i in range(rebotes):\n",
        "            nueva_altura= round((altura*3/5),1)\n",
        "            altura= altura*3/5\n",
        "            lista.append(nueva_altura)\n",
        "\n",
        "        return lista\n",
        "\n",
        "    else:\n",
        "        print(\"ingreso una altura fuera de rango\")\n",
        "\n",
        "pelota(5,20000)\n",
        "\n"
      ],
      "execution_count": 8,
      "outputs": [
        {
          "output_type": "stream",
          "name": "stdout",
          "text": [
            "ingreso una altura fuera de rango\n"
          ]
        }
      ]
    },
    {
      "cell_type": "code",
      "source": [
        "#Ejercicio 6\n",
        "\n",
        "def cal_promedio():\n",
        "\n",
        "    numeros = input(\"Introduce los números separados por comas: \")\n",
        "    numeros_lista = numeros.split(\",\")\n",
        "    suma = 0\n",
        "    for num in numeros_lista:\n",
        "        suma += int(num)\n",
        "    promedio = suma / len(numeros_lista)\n",
        "    print(\"El promedio de los números es:\", round(promedio,1))\n",
        "\n",
        "\n",
        "cal_promedio()"
      ],
      "metadata": {
        "id": "Y6RckTC27nW3",
        "outputId": "477e8342-c191-461a-c533-77818c9b5473",
        "colab": {
          "base_uri": "https://localhost:8080/"
        }
      },
      "execution_count": 9,
      "outputs": [
        {
          "output_type": "stream",
          "name": "stdout",
          "text": [
            "Introduce los números separados por comas: 2,5\n",
            "El promedio de los números es: 3.5\n"
          ]
        }
      ]
    }
  ]
}