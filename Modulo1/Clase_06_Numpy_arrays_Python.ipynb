{
  "cells": [
    {
      "cell_type": "markdown",
      "metadata": {
        "id": "dynamic-wealth"
      },
      "source": [
        "\n",
        "### Coderhouse - Data Science\n",
        "Profe Jorge Ruiz"
      ],
      "id": "dynamic-wealth"
    },
    {
      "cell_type": "markdown",
      "metadata": {
        "id": "opening-private"
      },
      "source": [
        "Para usar una libreria y sus métodos es necesario instalarla primero. Una vez ha sido instalada es necesario importarla en el notebook en el que se va a usar.<br>\n",
        "\n",
        "Para importar usamos el comando <code> import </code> seguido del nombre de la libreria, en la mayoria de casos se utiliza la clausula <code> as </code> para asignar un \"apodo\", usualmente más corto que facilite su uso."
      ],
      "id": "opening-private"
    },
    {
      "cell_type": "code",
      "execution_count": 51,
      "metadata": {
        "id": "optional-whole"
      },
      "outputs": [],
      "source": [
        "# importar la libreria\n",
        "import numpy as np"
      ],
      "id": "optional-whole"
    },
    {
      "cell_type": "code",
      "execution_count": 52,
      "metadata": {
        "colab": {
          "base_uri": "https://localhost:8080/"
        },
        "id": "i1PLrd94cF-C",
        "outputId": "43b5b452-9edd-4f2a-f385-a68c60e80665"
      },
      "outputs": [
        {
          "output_type": "execute_result",
          "data": {
            "text/plain": [
              "[0, 1, 2, 3, 4, 5, 6, 7, 8, 9]"
            ]
          },
          "metadata": {},
          "execution_count": 52
        }
      ],
      "source": [
        "lista_prueba=list(range(10))\n",
        "lista_prueba"
      ],
      "id": "i1PLrd94cF-C"
    },
    {
      "cell_type": "markdown",
      "metadata": {
        "id": "blocked-particular"
      },
      "source": [
        "## Crear narray"
      ],
      "id": "blocked-particular"
    },
    {
      "cell_type": "code",
      "execution_count": 53,
      "metadata": {
        "colab": {
          "base_uri": "https://localhost:8080/"
        },
        "id": "unlikely-dimension",
        "outputId": "f31ab0bf-bb65-4dac-a08b-499258e1ed76"
      },
      "outputs": [
        {
          "output_type": "execute_result",
          "data": {
            "text/plain": [
              "array([10,  2])"
            ]
          },
          "metadata": {},
          "execution_count": 53
        }
      ],
      "source": [
        "Npa = np.array([10,2])\n",
        "Npa"
      ],
      "id": "unlikely-dimension"
    },
    {
      "cell_type": "code",
      "execution_count": 54,
      "metadata": {
        "colab": {
          "base_uri": "https://localhost:8080/"
        },
        "id": "thirty-theory",
        "outputId": "7641ec74-a33e-4137-eb41-23381c6e2964"
      },
      "outputs": [
        {
          "output_type": "execute_result",
          "data": {
            "text/plain": [
              "array([0, 1, 2, 3, 4, 5, 6, 7, 8, 9])"
            ]
          },
          "metadata": {},
          "execution_count": 54
        }
      ],
      "source": [
        "Npa = np.array(range(10))\n",
        "Npa"
      ],
      "id": "thirty-theory"
    },
    {
      "cell_type": "code",
      "execution_count": 55,
      "metadata": {
        "colab": {
          "base_uri": "https://localhost:8080/"
        },
        "id": "5-ProJj-k1Cx",
        "outputId": "9eebdcde-420a-44d5-ae12-d1cd40e396e6"
      },
      "outputs": [
        {
          "output_type": "stream",
          "name": "stdout",
          "text": [
            "[0 1 2 3 4 5 6 7 8 9 5]\n"
          ]
        }
      ],
      "source": [
        "# agregar nuevo valor a un array\n",
        "new_value = 5\n",
        "\n",
        "my_array = np.append(Npa, new_value)\n",
        "\n",
        "print(my_array)"
      ],
      "id": "5-ProJj-k1Cx"
    },
    {
      "cell_type": "code",
      "execution_count": 56,
      "metadata": {
        "colab": {
          "base_uri": "https://localhost:8080/"
        },
        "id": "Ft-37ovBlXNi",
        "outputId": "fc59b46c-74b5-4639-b23d-44b7278c874a"
      },
      "outputs": [
        {
          "output_type": "stream",
          "name": "stdout",
          "text": [
            "[0 1 2 3 4 5 6 7 8 9]\n"
          ]
        }
      ],
      "source": [
        "# eliminar un valor por posición\n",
        "\n",
        "index_to_delete = 10\n",
        "\n",
        "my_array = np.delete(my_array, index_to_delete)\n",
        "\n",
        "print(my_array)"
      ],
      "id": "Ft-37ovBlXNi"
    },
    {
      "cell_type": "code",
      "execution_count": 57,
      "metadata": {
        "colab": {
          "base_uri": "https://localhost:8080/"
        },
        "id": "injured-immune",
        "outputId": "d782c5b1-dca3-4cf2-d607-cd1e193d1e23"
      },
      "outputs": [
        {
          "output_type": "execute_result",
          "data": {
            "text/plain": [
              "array([0., 0., 0., 0., 0., 0., 0., 0., 0., 0.])"
            ]
          },
          "metadata": {},
          "execution_count": 57
        }
      ],
      "source": [
        "Np_cero = np.zeros(10) #float o decimales\n",
        "Np_cero"
      ],
      "id": "injured-immune"
    },
    {
      "cell_type": "code",
      "execution_count": 58,
      "metadata": {
        "colab": {
          "base_uri": "https://localhost:8080/"
        },
        "id": "increasing-deployment",
        "outputId": "f7a2c44e-4172-4069-f948-ea2f0f91a187"
      },
      "outputs": [
        {
          "output_type": "execute_result",
          "data": {
            "text/plain": [
              "array([0, 0, 0, 0, 0])"
            ]
          },
          "metadata": {},
          "execution_count": 58
        }
      ],
      "source": [
        "Np_cero_int = np.zeros(5, dtype=int) #int o entero\n",
        "Np_cero_int"
      ],
      "id": "increasing-deployment"
    },
    {
      "cell_type": "code",
      "execution_count": 59,
      "metadata": {
        "colab": {
          "base_uri": "https://localhost:8080/"
        },
        "id": "adjacent-meditation",
        "outputId": "bcfa9500-0e61-4941-c8d6-63e85278ee19"
      },
      "outputs": [
        {
          "output_type": "execute_result",
          "data": {
            "text/plain": [
              "array([1, 1, 1, 1, 1, 1, 1, 1, 1, 1])"
            ]
          },
          "metadata": {},
          "execution_count": 59
        }
      ],
      "source": [
        "Np_uno = np.ones(10, dtype=int)\n",
        "Np_uno"
      ],
      "id": "adjacent-meditation"
    },
    {
      "cell_type": "code",
      "execution_count": 60,
      "metadata": {
        "colab": {
          "base_uri": "https://localhost:8080/"
        },
        "id": "catholic-flesh",
        "outputId": "92c7b1bd-c6a0-4b8d-810c-5f35bbab99dd"
      },
      "outputs": [
        {
          "output_type": "execute_result",
          "data": {
            "text/plain": [
              "array([11, 11, 11, 11, 11])"
            ]
          },
          "metadata": {},
          "execution_count": 60
        }
      ],
      "source": [
        "Np_relleno = np.full(5, 11) # (tamaño, valor)\n",
        "Np_relleno"
      ],
      "id": "catholic-flesh"
    },
    {
      "cell_type": "code",
      "execution_count": 61,
      "metadata": {
        "colab": {
          "base_uri": "https://localhost:8080/"
        },
        "id": "blind-depression",
        "outputId": "7693c8b7-b778-454d-f4fe-4a9a322b3a3f"
      },
      "outputs": [
        {
          "output_type": "execute_result",
          "data": {
            "text/plain": [
              "array([0, 1, 2, 3, 4, 5, 6, 7, 8, 9])"
            ]
          },
          "metadata": {},
          "execution_count": 61
        }
      ],
      "source": [
        "Npa = np.array(range(10))\n",
        "Npa"
      ],
      "id": "blind-depression"
    },
    {
      "cell_type": "code",
      "execution_count": 62,
      "metadata": {
        "colab": {
          "base_uri": "https://localhost:8080/"
        },
        "id": "governing-gibson",
        "outputId": "869e7804-7e08-42b2-829e-dd572c424701"
      },
      "outputs": [
        {
          "output_type": "execute_result",
          "data": {
            "text/plain": [
              "array([0., 1., 2., 3., 4., 5., 6., 7., 8., 9.])"
            ]
          },
          "metadata": {},
          "execution_count": 62
        }
      ],
      "source": [
        "Np_rango = np.arange(10.0) # funciona igual que range\n",
        "Np_rango"
      ],
      "id": "governing-gibson"
    },
    {
      "cell_type": "markdown",
      "metadata": {
        "id": "4he5UNbtc5h_"
      },
      "source": [
        "La principal diferencia entre range y arange es que range genera una secuencia de números enteros, mientras que arange puede generar una secuencia de números en punto flotante. Además, arange es parte del módulo NumPy"
      ],
      "id": "4he5UNbtc5h_"
    },
    {
      "cell_type": "code",
      "execution_count": 63,
      "metadata": {
        "colab": {
          "base_uri": "https://localhost:8080/"
        },
        "id": "swiss-entertainment",
        "outputId": "d51d2ad1-c671-4666-cc99-1f5bb88be847"
      },
      "outputs": [
        {
          "output_type": "execute_result",
          "data": {
            "text/plain": [
              "array([1, 2, 3, 4, 5, 6, 7, 8, 9])"
            ]
          },
          "metadata": {},
          "execution_count": 63
        }
      ],
      "source": [
        "Np_rango = np.arange(1, 10) # funciona igual que range\n",
        "Np_rango"
      ],
      "id": "swiss-entertainment"
    },
    {
      "cell_type": "code",
      "execution_count": 64,
      "metadata": {
        "colab": {
          "base_uri": "https://localhost:8080/"
        },
        "id": "optical-meeting",
        "outputId": "d067940c-2fa6-4288-8986-d74555662823"
      },
      "outputs": [
        {
          "output_type": "execute_result",
          "data": {
            "text/plain": [
              "array([2., 4., 6., 8.])"
            ]
          },
          "metadata": {},
          "execution_count": 64
        }
      ],
      "source": [
        "Np_rango = np.arange(2.0, 10.0, 2) # funciona igual que range\n",
        "Np_rango"
      ],
      "id": "optical-meeting"
    },
    {
      "cell_type": "code",
      "execution_count": 65,
      "metadata": {
        "colab": {
          "base_uri": "https://localhost:8080/"
        },
        "id": "passive-accident",
        "outputId": "e67249b4-cd8d-4cb7-f820-d8ded5fccf78"
      },
      "outputs": [
        {
          "output_type": "execute_result",
          "data": {
            "text/plain": [
              "array([[4, 1, 0, 7],\n",
              "       [4, 8, 1, 1],\n",
              "       [5, 1, 1, 4]])"
            ]
          },
          "metadata": {},
          "execution_count": 65
        }
      ],
      "source": [
        "\"\"\"\n",
        "np.random.randint(10, size=(3, 4)) es una llamada a la función randint del módulo numpy.random de la librería NumPy.\n",
        "Esta función genera un array de números enteros aleatorios con valores que van desde 0 hasta el número especificado como primer argumento (en este caso, 10).\n",
        "\n",
        "El segundo argumento de la función, size=(3, 4), especifica las dimensiones del array resultante.\n",
        "En este caso, se genera un array de 3 filas y 4 columnas, lo que significa que el array resultante tendrá una forma de (3, 4).\n",
        "\"\"\"\n",
        "\n",
        "Np_random_dimensiones = np.random.randint(10, size=(3, 4)) #valores aleatorios\n",
        "#Np_random_dimensiones = np.random.randint(5, 10, size=(3, 4)) #valores aleatorios entre 5 Y 9\n",
        "Np_random_dimensiones"
      ],
      "id": "passive-accident"
    },
    {
      "cell_type": "markdown",
      "metadata": {
        "id": "round-complex"
      },
      "source": [
        "### Propiedades de los arrays"
      ],
      "id": "round-complex"
    },
    {
      "cell_type": "markdown",
      "metadata": {
        "id": "handy-board"
      },
      "source": [
        "#### Dimesión"
      ],
      "id": "handy-board"
    },
    {
      "cell_type": "code",
      "execution_count": 66,
      "metadata": {
        "colab": {
          "base_uri": "https://localhost:8080/"
        },
        "id": "included-powder",
        "outputId": "c5f2c529-af76-43f8-cf3d-dc58ab999867"
      },
      "outputs": [
        {
          "output_type": "execute_result",
          "data": {
            "text/plain": [
              "2"
            ]
          },
          "metadata": {},
          "execution_count": 66
        }
      ],
      "source": [
        "Np_random_dimensiones.ndim\n",
        "\n",
        "#ndim devuelve el número de dimensiones del array"
      ],
      "id": "included-powder"
    },
    {
      "cell_type": "markdown",
      "metadata": {
        "id": "atmospheric-wholesale"
      },
      "source": [
        "#### Forma"
      ],
      "id": "atmospheric-wholesale"
    },
    {
      "cell_type": "code",
      "execution_count": 67,
      "metadata": {
        "colab": {
          "base_uri": "https://localhost:8080/"
        },
        "id": "respected-carolina",
        "outputId": "b0ea0c64-c700-431e-c011-1b58b9ae3c9e"
      },
      "outputs": [
        {
          "output_type": "execute_result",
          "data": {
            "text/plain": [
              "(3, 4)"
            ]
          },
          "metadata": {},
          "execution_count": 67
        }
      ],
      "source": [
        "Np_random_dimensiones.shape\n",
        "\n",
        "#shape: devuelve la forma (número de filas y columnas) del array."
      ],
      "id": "respected-carolina"
    },
    {
      "cell_type": "markdown",
      "metadata": {
        "id": "fatal-indonesia"
      },
      "source": [
        "#### Tamaño"
      ],
      "id": "fatal-indonesia"
    },
    {
      "cell_type": "code",
      "execution_count": 68,
      "metadata": {
        "colab": {
          "base_uri": "https://localhost:8080/"
        },
        "id": "dried-championship",
        "outputId": "65e99bd3-f6e3-404b-eb69-cc8bbb5a1b0b"
      },
      "outputs": [
        {
          "output_type": "execute_result",
          "data": {
            "text/plain": [
              "12"
            ]
          },
          "metadata": {},
          "execution_count": 68
        }
      ],
      "source": [
        "Np_random_dimensiones.size\n",
        "\n",
        "#size: devuelve el número total de elementos en el array."
      ],
      "id": "dried-championship"
    },
    {
      "cell_type": "code",
      "execution_count": 69,
      "metadata": {
        "colab": {
          "base_uri": "https://localhost:8080/"
        },
        "id": "LgF6sHZRfM6X",
        "outputId": "dd2619e0-afa6-4d84-fce8-85014fa5cc94"
      },
      "outputs": [
        {
          "output_type": "execute_result",
          "data": {
            "text/plain": [
              "8"
            ]
          },
          "metadata": {},
          "execution_count": 69
        }
      ],
      "source": [
        "Np_random_dimensiones.max()\n",
        "\n",
        "# max y min: devuelven el valor máximo y mínimo en el array, respectivamente."
      ],
      "id": "LgF6sHZRfM6X"
    },
    {
      "cell_type": "markdown",
      "metadata": {
        "id": "hydraulic-melbourne"
      },
      "source": [
        "otro ejemplo"
      ],
      "id": "hydraulic-melbourne"
    },
    {
      "cell_type": "code",
      "execution_count": 70,
      "metadata": {
        "colab": {
          "base_uri": "https://localhost:8080/"
        },
        "id": "xLYysSbMfnAR",
        "outputId": "457c239d-66ea-4351-95ce-6407c3a854ca"
      },
      "outputs": [
        {
          "output_type": "execute_result",
          "data": {
            "text/plain": [
              "array([4, 1, 0, 7, 4, 8, 1, 1, 5, 1, 1, 4])"
            ]
          },
          "metadata": {},
          "execution_count": 70
        }
      ],
      "source": [
        "Np_random_dimensiones.flatten()\n",
        "\n",
        "# flatten: devuelve una copia unidimensional del array original."
      ],
      "id": "xLYysSbMfnAR"
    },
    {
      "cell_type": "code",
      "execution_count": 71,
      "metadata": {
        "colab": {
          "base_uri": "https://localhost:8080/"
        },
        "id": "inner-daily",
        "outputId": "f769fa73-c577-4dd6-dba9-fe0884f6b9ed"
      },
      "outputs": [
        {
          "output_type": "stream",
          "name": "stdout",
          "text": [
            "narray  [0 1 2 3 4 5 6 7 8 9]\n",
            "dimensiones  1\n",
            "forma  (10,)\n",
            "tamaño  10\n"
          ]
        }
      ],
      "source": [
        "print('narray ', Npa)\n",
        "print('dimensiones ', Npa.ndim)\n",
        "print('forma ', Npa.shape)\n",
        "print('tamaño ', Npa.size)"
      ],
      "id": "inner-daily"
    },
    {
      "cell_type": "markdown",
      "metadata": {
        "id": "liable-solid"
      },
      "source": [
        "#### Tipo de dato"
      ],
      "id": "liable-solid"
    },
    {
      "cell_type": "code",
      "execution_count": 72,
      "metadata": {
        "colab": {
          "base_uri": "https://localhost:8080/"
        },
        "id": "quality-background",
        "outputId": "cc1cbcbd-3c83-490c-d5ac-0059588e539f"
      },
      "outputs": [
        {
          "output_type": "stream",
          "name": "stdout",
          "text": [
            "[0. 0. 0. 0. 0. 0. 0. 0. 0. 0.]\n",
            "float64\n"
          ]
        }
      ],
      "source": [
        "print(Np_cero)\n",
        "print(Np_cero.dtype)"
      ],
      "id": "quality-background"
    },
    {
      "cell_type": "code",
      "execution_count": 73,
      "metadata": {
        "colab": {
          "base_uri": "https://localhost:8080/"
        },
        "id": "infectious-transcription",
        "outputId": "e004f5d4-9b6c-4687-d302-ca01d8134c79"
      },
      "outputs": [
        {
          "output_type": "stream",
          "name": "stdout",
          "text": [
            "[0 0 0 0 0]\n",
            "int64\n"
          ]
        }
      ],
      "source": [
        "print(Np_cero_int)\n",
        "print(Np_cero_int.dtype)"
      ],
      "id": "infectious-transcription"
    },
    {
      "cell_type": "code",
      "execution_count": 74,
      "metadata": {
        "colab": {
          "base_uri": "https://localhost:8080/"
        },
        "id": "fitted-reality",
        "outputId": "a5211809-d207-492b-b23d-d78a57da3f93"
      },
      "outputs": [
        {
          "output_type": "execute_result",
          "data": {
            "text/plain": [
              "dtype('int64')"
            ]
          },
          "metadata": {},
          "execution_count": 74
        }
      ],
      "source": [
        "Np_random_dimensiones.dtype"
      ],
      "id": "fitted-reality"
    },
    {
      "cell_type": "code",
      "execution_count": 75,
      "metadata": {
        "colab": {
          "base_uri": "https://localhost:8080/"
        },
        "id": "CvUXOIRmWn7I",
        "outputId": "f5c2a309-6df1-419e-a13c-53b71e306610"
      },
      "outputs": [
        {
          "output_type": "execute_result",
          "data": {
            "text/plain": [
              "array([[4, 1, 0, 7],\n",
              "       [4, 8, 1, 1],\n",
              "       [5, 1, 1, 4]])"
            ]
          },
          "metadata": {},
          "execution_count": 75
        }
      ],
      "source": [
        "Np_random_dimensiones"
      ],
      "id": "CvUXOIRmWn7I"
    },
    {
      "cell_type": "markdown",
      "metadata": {
        "id": "powerful-marriage"
      },
      "source": [
        "#### Tamaño del elemento"
      ],
      "id": "powerful-marriage"
    },
    {
      "cell_type": "code",
      "execution_count": 76,
      "metadata": {
        "colab": {
          "base_uri": "https://localhost:8080/"
        },
        "id": "cutting-tournament",
        "outputId": "bf09ca80-0424-4b80-f7ae-7a37867d9299"
      },
      "outputs": [
        {
          "output_type": "stream",
          "name": "stdout",
          "text": [
            "8 bytes\n"
          ]
        }
      ],
      "source": [
        "print(Np_random_dimensiones.itemsize, 'bytes')"
      ],
      "id": "cutting-tournament"
    },
    {
      "cell_type": "markdown",
      "metadata": {
        "id": "fantastic-holiday"
      },
      "source": [
        "#### Tamaño total"
      ],
      "id": "fantastic-holiday"
    },
    {
      "cell_type": "code",
      "execution_count": 77,
      "metadata": {
        "colab": {
          "base_uri": "https://localhost:8080/"
        },
        "id": "known-devon",
        "outputId": "601cc8d6-e500-47d9-9efa-7b9f2264c8c0"
      },
      "outputs": [
        {
          "output_type": "stream",
          "name": "stdout",
          "text": [
            "96 bytes\n"
          ]
        }
      ],
      "source": [
        "print(Np_random_dimensiones.nbytes, 'bytes')"
      ],
      "id": "known-devon"
    },
    {
      "cell_type": "markdown",
      "metadata": {
        "id": "round-plasma"
      },
      "source": [
        "----------------------------\n",
        "### tip:\n",
        "Usualmente cuando se crea o carga un conjunto de datos se asigna un tipo de dato de forma ***automática***. Esto sucede porque al crear el objeto se reserva un espacio en ***memoria*** para cada dato. No obstante, cada tipo de dato representa un ***consumo*** de memoria diferente.<br>\n",
        "Veamos algunos ejemplos:"
      ],
      "id": "round-plasma"
    },
    {
      "cell_type": "code",
      "execution_count": 78,
      "metadata": {
        "colab": {
          "base_uri": "https://localhost:8080/"
        },
        "id": "earned-beauty",
        "outputId": "5424e859-de05-4e19-aee1-34dfb72be6fe"
      },
      "outputs": [
        {
          "output_type": "execute_result",
          "data": {
            "text/plain": [
              "dtype('float64')"
            ]
          },
          "metadata": {},
          "execution_count": 78
        }
      ],
      "source": [
        "x = np.array([1.,2,3])\n",
        "x.dtype"
      ],
      "id": "earned-beauty"
    },
    {
      "cell_type": "code",
      "execution_count": 79,
      "metadata": {
        "colab": {
          "base_uri": "https://localhost:8080/"
        },
        "id": "perfect-printing",
        "outputId": "e25c62b1-3f3f-4174-b8a7-53f7bbd2d2b5"
      },
      "outputs": [
        {
          "output_type": "stream",
          "name": "stdout",
          "text": [
            "Usando float64:\n",
            "tamaño elemento 8 tamaño total 24\n"
          ]
        }
      ],
      "source": [
        "\"\"\"\n",
        "El tamaño de x es de 24 bytes.\n",
        "Esto se debe a que x es un array de NumPy con 3 elementos de tipo float64, que en NumPy se representan\n",
        "utilizando 64 bits o 8 bytes por elemento. Por lo tanto, el tamaño total de x es de 3 elementos multiplicado por 8 bytes por elemento,\n",
        "lo que resulta en un total de 24 bytes.\n",
        "\"\"\"\n",
        "x = np.array([1,2,3], dtype=np.float64)\n",
        "print('Usando float64:')\n",
        "print('tamaño elemento', x.itemsize, 'tamaño total', x.nbytes)\n"
      ],
      "id": "perfect-printing"
    },
    {
      "cell_type": "code",
      "execution_count": 80,
      "metadata": {
        "colab": {
          "base_uri": "https://localhost:8080/"
        },
        "id": "4-tOfOwHjXMZ",
        "outputId": "a344c618-593e-4405-a2a1-ef980f40e60e"
      },
      "outputs": [
        {
          "output_type": "stream",
          "name": "stdout",
          "text": [
            "Usando int:\n",
            "tamaño elemento 1 tamaño total 3\n"
          ]
        }
      ],
      "source": [
        "x = np.array([1,2,3], dtype=np.int8)\n",
        "print('Usando int:')\n",
        "print('tamaño elemento', x.itemsize, 'tamaño total', x.nbytes)"
      ],
      "id": "4-tOfOwHjXMZ"
    },
    {
      "cell_type": "markdown",
      "metadata": {
        "id": "intellectual-smooth"
      },
      "source": [
        "Alto ahí\n",
        "> Pero ¿qué ***implicaciones*** tiene usar float32 en lugar de usar float64?"
      ],
      "id": "intellectual-smooth"
    },
    {
      "cell_type": "code",
      "execution_count": 81,
      "metadata": {
        "colab": {
          "base_uri": "https://localhost:8080/"
        },
        "id": "careful-borough",
        "outputId": "840ced0d-acd0-43d8-a6f5-d6ee5848fd5a"
      },
      "outputs": [
        {
          "output_type": "stream",
          "name": "stdout",
          "text": [
            "16bit:  0.1235\n",
            "32bit:  0.12345679\n",
            "64bit:  0.12345678912121212\n"
          ]
        }
      ],
      "source": [
        "a = np.array([0.123456789121212121212,2,3], dtype=np.float16)\n",
        "print(\"16bit: \", a[0])\n",
        "\n",
        "a = np.array([0.123456789121212121212,2,3], dtype=np.float32)\n",
        "print(\"32bit: \", a[0])\n",
        "\n",
        "b = np.array([0.123456789121212121212,2,3], dtype=np.float64)\n",
        "print(\"64bit: \", b[0])"
      ],
      "id": "careful-borough"
    },
    {
      "cell_type": "markdown",
      "metadata": {
        "id": "raising-space"
      },
      "source": [
        "Si bien los computadores de hoy en día tienen memorias que van desde los 4GB a 128GB o más, también los conjuntos de datos que utilizamos en la vida real pueden tener pesos similares. Entonces evaluar los tipos de datos a usar puede ser una herramienta importante a futuro."
      ],
      "id": "raising-space"
    },
    {
      "cell_type": "code",
      "execution_count": 82,
      "metadata": {
        "colab": {
          "base_uri": "https://localhost:8080/"
        },
        "id": "moved-raleigh",
        "outputId": "6dcfaca3-9b37-4d42-ad4b-fab3eea9db34"
      },
      "outputs": [
        {
          "output_type": "execute_result",
          "data": {
            "text/plain": [
              "float"
            ]
          },
          "metadata": {},
          "execution_count": 82
        }
      ],
      "source": [
        "x = 0.1\n",
        "type(x)"
      ],
      "id": "moved-raleigh"
    },
    {
      "cell_type": "markdown",
      "metadata": {
        "id": "little-globe"
      },
      "source": [
        "----------------------------"
      ],
      "id": "little-globe"
    },
    {
      "cell_type": "markdown",
      "metadata": {
        "id": "double-object"
      },
      "source": [
        "## Indexado y acceso"
      ],
      "id": "double-object"
    },
    {
      "cell_type": "code",
      "execution_count": 83,
      "metadata": {
        "colab": {
          "base_uri": "https://localhost:8080/"
        },
        "id": "increasing-guatemala",
        "outputId": "8fafc947-d5af-4a35-a16b-b54553cd73c5"
      },
      "outputs": [
        {
          "output_type": "execute_result",
          "data": {
            "text/plain": [
              "array([ 1,  2,  3,  4,  5,  6,  7,  8,  9, 10])"
            ]
          },
          "metadata": {},
          "execution_count": 83
        }
      ],
      "source": [
        "rango = range(1,11)\n",
        "Np_diez_numeros = np.array(rango)\n",
        "Np_diez_numeros"
      ],
      "id": "increasing-guatemala"
    },
    {
      "cell_type": "code",
      "execution_count": 84,
      "metadata": {
        "colab": {
          "base_uri": "https://localhost:8080/"
        },
        "id": "altered-facial",
        "outputId": "111f353a-b7d8-4d33-dd2f-5e12f7f6e012"
      },
      "outputs": [
        {
          "output_type": "execute_result",
          "data": {
            "text/plain": [
              "6"
            ]
          },
          "metadata": {},
          "execution_count": 84
        }
      ],
      "source": [
        "Np_diez_numeros[5]"
      ],
      "id": "altered-facial"
    },
    {
      "cell_type": "markdown",
      "metadata": {
        "id": "another-teacher"
      },
      "source": [
        "> ***IMPORTANTE:*** En python los indices comienzan en cero."
      ],
      "id": "another-teacher"
    },
    {
      "cell_type": "code",
      "execution_count": 85,
      "metadata": {
        "colab": {
          "base_uri": "https://localhost:8080/"
        },
        "id": "knowing-mayor",
        "outputId": "dc34bdb1-9efc-4558-c51e-123ea554495c"
      },
      "outputs": [
        {
          "output_type": "execute_result",
          "data": {
            "text/plain": [
              "10"
            ]
          },
          "metadata": {},
          "execution_count": 85
        }
      ],
      "source": [
        "Np_diez_numeros[-1]"
      ],
      "id": "knowing-mayor"
    },
    {
      "cell_type": "code",
      "execution_count": 86,
      "metadata": {
        "colab": {
          "base_uri": "https://localhost:8080/"
        },
        "id": "forbidden-career",
        "outputId": "bf1f6de8-61bc-483b-df5b-a4a9400c45c1"
      },
      "outputs": [
        {
          "output_type": "execute_result",
          "data": {
            "text/plain": [
              "9"
            ]
          },
          "metadata": {},
          "execution_count": 86
        }
      ],
      "source": [
        "Np_diez_numeros[-2]"
      ],
      "id": "forbidden-career"
    },
    {
      "cell_type": "markdown",
      "metadata": {
        "id": "WNeJMrm6ll4P"
      },
      "source": [
        "\n",
        "\n",
        "- `Np_diez_numeros[:6]`: Selecciona los primeros 6 elementos del array.\n",
        "- `Np_diez_numeros[5:]`: Selecciona todos los elementos desde el índice 5 hasta el final del array .\n",
        "- `Np_diez_numeros[::2]`: Selecciona todos los elementos del array  en incrementos de 2, es decir, selecciona los elementos en las posiciones 0, 2, 4, 6, etc.\n",
        "- `Np_diez_numeros[1::2]`: Selecciona todos los elementos del array  en incrementos de 2, comenzando desde el índice 1, es decir, selecciona los elementos en las posiciones 1, 3, 5, 7, etc.\n",
        "- `Np_diez_numerosa[::-1]`: Selecciona todos los elementos del array  en orden inverso.\n",
        "- `Np_diez_numeros[-5:]`: Selecciona los últimos 5 elementos del array .\n",
        "- `Np_diez_numeros[2:8:2]`: Selecciona los elementos del array  en las posiciones 2, 4 y 6, es decir, selecciona los elementos en las posiciones 2, 4 y 6.\n",
        "\n",
        "En general, la indexación por posición en NumPy utiliza la sintaxis `[inicio:fin:paso]`, donde `inicio` es la posición inicial del corte, `fin` es la posición final del corte (no inclusiva) y `paso` es el número de elementos que se saltan en cada iteración. Si alguno de estos valores se omite, se asume que es el valor por defecto (0 para `inicio`, `len(array)` para `fin` y 1 para `paso`)."
      ],
      "id": "WNeJMrm6ll4P"
    },
    {
      "cell_type": "code",
      "execution_count": 87,
      "metadata": {
        "colab": {
          "base_uri": "https://localhost:8080/"
        },
        "id": "_bqi22YfmAoT",
        "outputId": "8545ad50-94d6-4d8b-c049-989ee3794693"
      },
      "outputs": [
        {
          "output_type": "execute_result",
          "data": {
            "text/plain": [
              "array([1, 3, 5, 7, 9])"
            ]
          },
          "metadata": {},
          "execution_count": 87
        }
      ],
      "source": [
        "Np_diez_numeros[::2]"
      ],
      "id": "_bqi22YfmAoT"
    },
    {
      "cell_type": "code",
      "execution_count": 88,
      "metadata": {
        "colab": {
          "base_uri": "https://localhost:8080/"
        },
        "id": "gVLFEI6vmz99",
        "outputId": "5832bf79-d53e-4261-de2c-10c74b4cdae5"
      },
      "outputs": [
        {
          "output_type": "execute_result",
          "data": {
            "text/plain": [
              "array([1, 2, 3, 4, 5, 6])"
            ]
          },
          "metadata": {},
          "execution_count": 88
        }
      ],
      "source": [
        "Np_diez_numeros[:6]"
      ],
      "id": "gVLFEI6vmz99"
    },
    {
      "cell_type": "code",
      "execution_count": 89,
      "metadata": {
        "colab": {
          "base_uri": "https://localhost:8080/"
        },
        "id": "V4Z9iOVTmcBR",
        "outputId": "9fa69f0c-2034-4e78-8e31-3cf51f84def4"
      },
      "outputs": [
        {
          "output_type": "execute_result",
          "data": {
            "text/plain": [
              "array([3, 5, 7])"
            ]
          },
          "metadata": {},
          "execution_count": 89
        }
      ],
      "source": [
        "Np_diez_numeros[2:8:2]"
      ],
      "id": "V4Z9iOVTmcBR"
    },
    {
      "cell_type": "code",
      "execution_count": 90,
      "metadata": {
        "colab": {
          "base_uri": "https://localhost:8080/"
        },
        "id": "christian-sociology",
        "outputId": "f02f956d-f14c-4565-fcb4-8e0c04a5744f"
      },
      "outputs": [
        {
          "output_type": "execute_result",
          "data": {
            "text/plain": [
              "array([[9, 7, 2],\n",
              "       [5, 3, 6],\n",
              "       [4, 3, 2]])"
            ]
          },
          "metadata": {},
          "execution_count": 90
        }
      ],
      "source": [
        "Np_2_dim = np.random.randint(10, size=(3, 3))\n",
        "Np_2_dim"
      ],
      "id": "christian-sociology"
    },
    {
      "cell_type": "code",
      "execution_count": 91,
      "metadata": {
        "colab": {
          "base_uri": "https://localhost:8080/"
        },
        "id": "automotive-kitty",
        "outputId": "ee3f61dc-dd8f-4f7a-f468-64a4fd4b5193"
      },
      "outputs": [
        {
          "output_type": "execute_result",
          "data": {
            "text/plain": [
              "3"
            ]
          },
          "metadata": {},
          "execution_count": 91
        }
      ],
      "source": [
        "Np_2_dim[1, 1]"
      ],
      "id": "automotive-kitty"
    },
    {
      "cell_type": "code",
      "execution_count": 92,
      "metadata": {
        "colab": {
          "base_uri": "https://localhost:8080/"
        },
        "id": "ecological-fifteen",
        "outputId": "3a719f68-12a9-4569-c0d3-cb710e476c8c"
      },
      "outputs": [
        {
          "output_type": "execute_result",
          "data": {
            "text/plain": [
              "array([[[4, 9, 3, 4],\n",
              "        [8, 9, 2, 2],\n",
              "        [7, 8, 6, 9]],\n",
              "\n",
              "       [[9, 7, 5, 0],\n",
              "        [8, 0, 7, 3],\n",
              "        [2, 2, 5, 0]],\n",
              "\n",
              "       [[8, 6, 5, 8],\n",
              "        [4, 3, 6, 9],\n",
              "        [8, 3, 4, 9]]])"
            ]
          },
          "metadata": {},
          "execution_count": 92
        }
      ],
      "source": [
        "Np_3_dim = np.random.randint(10, size=(3, 3, 4))\n",
        "Np_3_dim"
      ],
      "id": "ecological-fifteen"
    },
    {
      "cell_type": "code",
      "execution_count": 93,
      "metadata": {
        "colab": {
          "base_uri": "https://localhost:8080/"
        },
        "id": "played-hamburg",
        "outputId": "ad9b5708-bb58-4197-dfac-17fa82e70ecf"
      },
      "outputs": [
        {
          "output_type": "execute_result",
          "data": {
            "text/plain": [
              "7"
            ]
          },
          "metadata": {},
          "execution_count": 93
        }
      ],
      "source": [
        "\"\"\"\n",
        "se utilizan tres índices, donde el primer índice especifica la matriz,\n",
        "el segundo índice especifica la fila y el\n",
        "tercer índice especifica la columna.\n",
        "\"\"\"\n",
        "\n",
        "Np_3_dim[1, 0, 1]\n",
        "\n"
      ],
      "id": "played-hamburg"
    },
    {
      "cell_type": "markdown",
      "metadata": {
        "id": "marine-theory"
      },
      "source": [
        "##### Subarrays"
      ],
      "id": "marine-theory"
    },
    {
      "cell_type": "code",
      "execution_count": 94,
      "metadata": {
        "colab": {
          "base_uri": "https://localhost:8080/"
        },
        "id": "alive-jefferson",
        "outputId": "b611428e-53cb-43bc-f3b5-b1abac1a6cdc"
      },
      "outputs": [
        {
          "output_type": "execute_result",
          "data": {
            "text/plain": [
              "array([ 1,  2,  3,  4,  5,  6,  7,  8,  9, 10])"
            ]
          },
          "metadata": {},
          "execution_count": 94
        }
      ],
      "source": [
        "Np_diez_numeros"
      ],
      "id": "alive-jefferson"
    },
    {
      "cell_type": "code",
      "execution_count": 95,
      "metadata": {
        "colab": {
          "base_uri": "https://localhost:8080/"
        },
        "id": "convertible-juvenile",
        "outputId": "54f34989-d5de-4cd8-80d7-78d14fb985c3"
      },
      "outputs": [
        {
          "output_type": "execute_result",
          "data": {
            "text/plain": [
              "array([1, 2, 3])"
            ]
          },
          "metadata": {},
          "execution_count": 95
        }
      ],
      "source": [
        "Np_diez_numeros[0:3]"
      ],
      "id": "convertible-juvenile"
    },
    {
      "cell_type": "code",
      "execution_count": 96,
      "metadata": {
        "colab": {
          "base_uri": "https://localhost:8080/"
        },
        "id": "protective-purpose",
        "outputId": "3e184514-98cd-421a-e011-f74b8eebcdbf"
      },
      "outputs": [
        {
          "output_type": "execute_result",
          "data": {
            "text/plain": [
              "array([ 8,  9, 10])"
            ]
          },
          "metadata": {},
          "execution_count": 96
        }
      ],
      "source": [
        "Np_diez_numeros[-3:]"
      ],
      "id": "protective-purpose"
    },
    {
      "cell_type": "code",
      "execution_count": 97,
      "metadata": {
        "colab": {
          "base_uri": "https://localhost:8080/"
        },
        "id": "certain-plane",
        "outputId": "1062c6d4-81a5-4011-8f35-eb0f7a568ac5"
      },
      "outputs": [
        {
          "output_type": "execute_result",
          "data": {
            "text/plain": [
              "array([ 8,  9, 10])"
            ]
          },
          "metadata": {},
          "execution_count": 97
        }
      ],
      "source": [
        "Np_diez_numeros[7:]"
      ],
      "id": "certain-plane"
    },
    {
      "cell_type": "code",
      "execution_count": 98,
      "metadata": {
        "colab": {
          "base_uri": "https://localhost:8080/"
        },
        "id": "related-craps",
        "outputId": "f1823286-b7c1-416d-c512-22df80c84bfb"
      },
      "outputs": [
        {
          "output_type": "execute_result",
          "data": {
            "text/plain": [
              "array([1, 2, 3, 4, 5, 6, 7, 8])"
            ]
          },
          "metadata": {},
          "execution_count": 98
        }
      ],
      "source": [
        "Np_diez_numeros[:8]"
      ],
      "id": "related-craps"
    },
    {
      "cell_type": "code",
      "execution_count": 99,
      "metadata": {
        "colab": {
          "base_uri": "https://localhost:8080/"
        },
        "id": "molecular-difference",
        "outputId": "5e8b894e-d9b5-49ba-b11b-082cb0afd615"
      },
      "outputs": [
        {
          "output_type": "execute_result",
          "data": {
            "text/plain": [
              "array([1, 3, 5, 7, 9])"
            ]
          },
          "metadata": {},
          "execution_count": 99
        }
      ],
      "source": [
        "Np_diez_numeros[::2]"
      ],
      "id": "molecular-difference"
    },
    {
      "cell_type": "code",
      "execution_count": 100,
      "metadata": {
        "colab": {
          "base_uri": "https://localhost:8080/"
        },
        "id": "imperial-shade",
        "outputId": "88ed3035-ebd2-42e9-f77f-71249864cec4"
      },
      "outputs": [
        {
          "output_type": "execute_result",
          "data": {
            "text/plain": [
              "array([10,  8,  6,  4,  2])"
            ]
          },
          "metadata": {},
          "execution_count": 100
        }
      ],
      "source": [
        "Np_diez_numeros[::-2]"
      ],
      "id": "imperial-shade"
    },
    {
      "cell_type": "markdown",
      "metadata": {
        "id": "reported-bosnia"
      },
      "source": [
        "Como sacar el 5 y el 7?"
      ],
      "id": "reported-bosnia"
    },
    {
      "cell_type": "code",
      "execution_count": 101,
      "metadata": {
        "colab": {
          "base_uri": "https://localhost:8080/"
        },
        "id": "confident-ceiling",
        "outputId": "58ce18f6-740a-4cd3-9ba7-d7c623fa40e9"
      },
      "outputs": [
        {
          "output_type": "execute_result",
          "data": {
            "text/plain": [
              "array([5, 6, 7])"
            ]
          },
          "metadata": {},
          "execution_count": 101
        }
      ],
      "source": [
        "Np_diez_numeros[4:7]\n"
      ],
      "id": "confident-ceiling"
    },
    {
      "cell_type": "code",
      "execution_count": 102,
      "metadata": {
        "colab": {
          "base_uri": "https://localhost:8080/"
        },
        "id": "liberal-checkout",
        "outputId": "ccd9e0c5-a3a9-4b90-c252-2ec6fd3b1ce3"
      },
      "outputs": [
        {
          "output_type": "execute_result",
          "data": {
            "text/plain": [
              "array([5, 7])"
            ]
          },
          "metadata": {},
          "execution_count": 102
        }
      ],
      "source": [
        "Np_diez_numeros[4:7:2]\n"
      ],
      "id": "liberal-checkout"
    },
    {
      "cell_type": "code",
      "execution_count": 103,
      "metadata": {
        "colab": {
          "base_uri": "https://localhost:8080/"
        },
        "id": "utility-insight",
        "outputId": "e9e923d7-826a-42b9-c996-1f724016c469"
      },
      "outputs": [
        {
          "output_type": "execute_result",
          "data": {
            "text/plain": [
              "array([[9, 7, 2],\n",
              "       [5, 3, 6],\n",
              "       [4, 3, 2]])"
            ]
          },
          "metadata": {},
          "execution_count": 103
        }
      ],
      "source": [
        "Np_2_dim"
      ],
      "id": "utility-insight"
    },
    {
      "cell_type": "code",
      "execution_count": 104,
      "metadata": {
        "colab": {
          "base_uri": "https://localhost:8080/"
        },
        "id": "ancient-ireland",
        "outputId": "cb67a266-ec97-4ce2-f9fb-86e4ea5f1650"
      },
      "outputs": [
        {
          "output_type": "execute_result",
          "data": {
            "text/plain": [
              "array([4, 3, 2])"
            ]
          },
          "metadata": {},
          "execution_count": 104
        }
      ],
      "source": [
        "Np_2_dim[2,] # fila"
      ],
      "id": "ancient-ireland"
    },
    {
      "cell_type": "code",
      "execution_count": 105,
      "metadata": {
        "colab": {
          "base_uri": "https://localhost:8080/"
        },
        "id": "nearby-fruit",
        "outputId": "11a8f239-07a0-45d8-aa74-277928ebb3b1"
      },
      "outputs": [
        {
          "output_type": "execute_result",
          "data": {
            "text/plain": [
              "array([[9, 7, 2],\n",
              "       [5, 3, 6]])"
            ]
          },
          "metadata": {},
          "execution_count": 105
        }
      ],
      "source": [
        "Np_2_dim[0:2, 0:]"
      ],
      "id": "nearby-fruit"
    },
    {
      "cell_type": "code",
      "execution_count": 106,
      "metadata": {
        "colab": {
          "base_uri": "https://localhost:8080/"
        },
        "id": "drawn-qualification",
        "outputId": "d04b9a91-a059-45c4-f207-3e90e1e80393"
      },
      "outputs": [
        {
          "output_type": "execute_result",
          "data": {
            "text/plain": [
              "array([7, 3, 3])"
            ]
          },
          "metadata": {},
          "execution_count": 106
        }
      ],
      "source": [
        "Np_2_dim[0:3,1] # Columna"
      ],
      "id": "drawn-qualification"
    },
    {
      "cell_type": "code",
      "execution_count": 107,
      "metadata": {
        "colab": {
          "base_uri": "https://localhost:8080/"
        },
        "id": "strong-laptop",
        "outputId": "b2bfde19-56d6-4961-8901-2bd390d93560"
      },
      "outputs": [
        {
          "output_type": "execute_result",
          "data": {
            "text/plain": [
              "array([7, 3, 3])"
            ]
          },
          "metadata": {},
          "execution_count": 107
        }
      ],
      "source": [
        "Np_2_dim[:,1]"
      ],
      "id": "strong-laptop"
    },
    {
      "cell_type": "markdown",
      "metadata": {
        "id": "speaking-jumping"
      },
      "source": [
        "## OPERACIONES BÁSICAS"
      ],
      "id": "speaking-jumping"
    },
    {
      "cell_type": "markdown",
      "metadata": {
        "id": "equal-joint"
      },
      "source": [
        "#### Reshape"
      ],
      "id": "equal-joint"
    },
    {
      "cell_type": "code",
      "execution_count": 108,
      "metadata": {
        "colab": {
          "base_uri": "https://localhost:8080/"
        },
        "id": "blessed-thomas",
        "outputId": "d5aa2685-4376-4462-e2c2-8940c83886aa"
      },
      "outputs": [
        {
          "output_type": "execute_result",
          "data": {
            "text/plain": [
              "array([ 1,  2,  3,  4,  5,  6,  7,  8,  9, 10, 11, 12, 13, 14, 15, 16, 17,\n",
              "       18, 19, 20, 21, 22, 23, 24, 25, 26, 27, 28, 29, 30, 31, 32, 33, 34,\n",
              "       35, 36, 37, 38, 39, 40, 41, 42, 43, 44, 45, 46, 47, 48, 49, 50, 51,\n",
              "       52, 53, 54, 55, 56, 57, 58, 59, 60, 61, 62, 63, 64])"
            ]
          },
          "metadata": {},
          "execution_count": 108
        }
      ],
      "source": [
        "unoSeiscuatro = np.arange(1,65)\n",
        "unoSeiscuatro"
      ],
      "id": "blessed-thomas"
    },
    {
      "cell_type": "code",
      "execution_count": 109,
      "metadata": {
        "colab": {
          "base_uri": "https://localhost:8080/"
        },
        "id": "primary-operations",
        "outputId": "0adb2405-f121-4453-f707-799b413b312b"
      },
      "outputs": [
        {
          "output_type": "execute_result",
          "data": {
            "text/plain": [
              "array([[ 1,  2,  3,  4,  5,  6,  7,  8],\n",
              "       [ 9, 10, 11, 12, 13, 14, 15, 16],\n",
              "       [17, 18, 19, 20, 21, 22, 23, 24],\n",
              "       [25, 26, 27, 28, 29, 30, 31, 32],\n",
              "       [33, 34, 35, 36, 37, 38, 39, 40],\n",
              "       [41, 42, 43, 44, 45, 46, 47, 48],\n",
              "       [49, 50, 51, 52, 53, 54, 55, 56],\n",
              "       [57, 58, 59, 60, 61, 62, 63, 64]])"
            ]
          },
          "metadata": {},
          "execution_count": 109
        }
      ],
      "source": [
        "unoSeiscuatro.reshape(8,8)"
      ],
      "id": "primary-operations"
    },
    {
      "cell_type": "code",
      "execution_count": 110,
      "metadata": {
        "colab": {
          "base_uri": "https://localhost:8080/"
        },
        "id": "elementary-colon",
        "outputId": "ea5dd78f-a091-4c30-8584-c8c52312a779"
      },
      "outputs": [
        {
          "output_type": "execute_result",
          "data": {
            "text/plain": [
              "array([[ 1,  2,  3,  4,  5,  6,  7,  8,  9, 10, 11, 12, 13, 14, 15, 16,\n",
              "        17, 18, 19, 20, 21, 22, 23, 24, 25, 26, 27, 28, 29, 30, 31, 32],\n",
              "       [33, 34, 35, 36, 37, 38, 39, 40, 41, 42, 43, 44, 45, 46, 47, 48,\n",
              "        49, 50, 51, 52, 53, 54, 55, 56, 57, 58, 59, 60, 61, 62, 63, 64]])"
            ]
          },
          "metadata": {},
          "execution_count": 110
        }
      ],
      "source": [
        "Ajedrez_64 = np.arange(1,65).reshape(2,32)\n",
        "Ajedrez_64"
      ],
      "id": "elementary-colon"
    },
    {
      "cell_type": "markdown",
      "metadata": {
        "id": "color-indonesian"
      },
      "source": [
        "#### Concatenación"
      ],
      "id": "color-indonesian"
    },
    {
      "cell_type": "code",
      "execution_count": 111,
      "metadata": {
        "colab": {
          "base_uri": "https://localhost:8080/"
        },
        "id": "regional-union",
        "outputId": "966d7a0a-3147-4140-8b9e-4cc66e2d43e2"
      },
      "outputs": [
        {
          "output_type": "execute_result",
          "data": {
            "text/plain": [
              "array([517, 714, 114, 329, 219])"
            ]
          },
          "metadata": {},
          "execution_count": 111
        }
      ],
      "source": [
        "\"\"\"\n",
        "El código Array_1 = np.random.randint(1000, size=5) crea un array de NumPy llamado Array_1 con 5 elementos enteros aleatorios generados\n",
        "por la función randint del módulo random de NumPy.\n",
        "\n",
        "En particular, randint genera números enteros aleatorios en el rango especificado por los argumentos de la función. En este caso, el rango es de 0 a 999\n",
        "(1000 no está incluido).\n",
        "\n",
        "Si quisiera float sería np.random.uniform(low=0, high=1000, size=5)\n",
        "\"\"\"\n",
        "\n",
        "Array_1 = np.random.randint(1000, size=5)\n",
        "Array_1"
      ],
      "id": "regional-union"
    },
    {
      "cell_type": "code",
      "execution_count": 112,
      "metadata": {
        "colab": {
          "base_uri": "https://localhost:8080/"
        },
        "id": "herbal-massachusetts",
        "outputId": "194b8372-0e21-4f23-ec82-b46ff2002137"
      },
      "outputs": [
        {
          "output_type": "execute_result",
          "data": {
            "text/plain": [
              "array([51, 63, 73,  3, 44])"
            ]
          },
          "metadata": {},
          "execution_count": 112
        }
      ],
      "source": [
        "Array_2 = np.random.randint(100, size=5)\n",
        "Array_2"
      ],
      "id": "herbal-massachusetts"
    },
    {
      "cell_type": "code",
      "execution_count": 113,
      "metadata": {
        "colab": {
          "base_uri": "https://localhost:8080/"
        },
        "id": "hollow-orlando",
        "outputId": "54f2fc33-6caf-49d3-9f22-9a660abfc597"
      },
      "outputs": [
        {
          "output_type": "execute_result",
          "data": {
            "text/plain": [
              "array([517, 714, 114, 329, 219,  51,  63,  73,   3,  44])"
            ]
          },
          "metadata": {},
          "execution_count": 113
        }
      ],
      "source": [
        "Arrays_concatenados = np.concatenate([Array_1, Array_2])\n",
        "Arrays_concatenados"
      ],
      "id": "hollow-orlando"
    },
    {
      "cell_type": "code",
      "execution_count": 114,
      "metadata": {
        "colab": {
          "base_uri": "https://localhost:8080/"
        },
        "id": "addressed-delhi",
        "outputId": "9aa67fb9-5f78-401f-be4a-c9ebafbca640"
      },
      "outputs": [
        {
          "output_type": "execute_result",
          "data": {
            "text/plain": [
              "array([[517, 714, 114, 329, 219],\n",
              "       [ 51,  63,  73,   3,  44]])"
            ]
          },
          "metadata": {},
          "execution_count": 114
        }
      ],
      "source": [
        "Array_apilados_v = np.vstack([Array_1, Array_2])\n",
        "Array_apilados_v"
      ],
      "id": "addressed-delhi"
    },
    {
      "cell_type": "code",
      "execution_count": 115,
      "metadata": {
        "colab": {
          "base_uri": "https://localhost:8080/"
        },
        "id": "wrong-commonwealth",
        "outputId": "52184dc9-15fc-498c-befd-3d46987337fa"
      },
      "outputs": [
        {
          "output_type": "execute_result",
          "data": {
            "text/plain": [
              "array([517, 714, 114, 329, 219,  51,  63,  73,   3,  44])"
            ]
          },
          "metadata": {},
          "execution_count": 115
        }
      ],
      "source": [
        "Array_apilados_h = np.hstack([Array_1, Array_2])\n",
        "Array_apilados_h"
      ],
      "id": "wrong-commonwealth"
    },
    {
      "cell_type": "markdown",
      "metadata": {
        "id": "natural-kernel"
      },
      "source": [
        "#### Splitting"
      ],
      "id": "natural-kernel"
    },
    {
      "cell_type": "code",
      "execution_count": 116,
      "metadata": {
        "colab": {
          "base_uri": "https://localhost:8080/"
        },
        "id": "cooperative-composition",
        "outputId": "87bbb0ac-a580-4adf-cfff-6f42291cae56"
      },
      "outputs": [
        {
          "output_type": "execute_result",
          "data": {
            "text/plain": [
              "array([517, 714, 114, 329, 219,  51,  63,  73,   3,  44])"
            ]
          },
          "metadata": {},
          "execution_count": 116
        }
      ],
      "source": [
        "Arrays_concatenados"
      ],
      "id": "cooperative-composition"
    },
    {
      "cell_type": "code",
      "execution_count": 117,
      "metadata": {
        "colab": {
          "base_uri": "https://localhost:8080/"
        },
        "id": "simplified-sodium",
        "outputId": "fa80a601-4d24-4325-cc39-2c914210e81b"
      },
      "outputs": [
        {
          "output_type": "execute_result",
          "data": {
            "text/plain": [
              "[array([517, 714, 114, 329, 219,  51]), array([63, 73,  3, 44])]"
            ]
          },
          "metadata": {},
          "execution_count": 117
        }
      ],
      "source": [
        "Array_partido = np.split(Arrays_concatenados, [6])\n",
        "Array_partido"
      ],
      "id": "simplified-sodium"
    },
    {
      "cell_type": "markdown",
      "metadata": {
        "id": "cognitive-money"
      },
      "source": [
        "### Agregaciones y Operaciones vectorizadas"
      ],
      "id": "cognitive-money"
    },
    {
      "cell_type": "code",
      "execution_count": 134,
      "metadata": {
        "colab": {
          "base_uri": "https://localhost:8080/"
        },
        "id": "dominant-kentucky",
        "scrolled": false,
        "outputId": "f5c41ba5-2c2c-4bae-ee6a-d9a21a99ece5"
      },
      "outputs": [
        {
          "output_type": "execute_result",
          "data": {
            "text/plain": [
              "array([126, 110, 980, ..., 271, 789,  68])"
            ]
          },
          "metadata": {},
          "execution_count": 134
        }
      ],
      "source": [
        "Array_aleatorio = np.random.randint(1000, size=1000000)\n",
        "Array_aleatorio"
      ],
      "id": "dominant-kentucky"
    },
    {
      "cell_type": "code",
      "execution_count": 119,
      "metadata": {
        "colab": {
          "base_uri": "https://localhost:8080/"
        },
        "id": "BG04IWLptYJI",
        "outputId": "46e860ea-e554-468f-f7fd-081ba71fd774"
      },
      "outputs": [
        {
          "output_type": "execute_result",
          "data": {
            "text/plain": [
              "1000000"
            ]
          },
          "metadata": {},
          "execution_count": 119
        }
      ],
      "source": [
        "len(Array_aleatorio)"
      ],
      "id": "BG04IWLptYJI"
    },
    {
      "cell_type": "code",
      "execution_count": 135,
      "metadata": {
        "colab": {
          "base_uri": "https://localhost:8080/"
        },
        "id": "current-edition",
        "outputId": "2ff216a7-c813-477b-e8a8-f3bbf7955d67"
      },
      "outputs": [
        {
          "output_type": "stream",
          "name": "stdout",
          "text": [
            "CPU times: user 219 ms, sys: 0 ns, total: 219 ms\n",
            "Wall time: 222 ms\n"
          ]
        },
        {
          "output_type": "execute_result",
          "data": {
            "text/plain": [
              "499.404929"
            ]
          },
          "metadata": {},
          "execution_count": 135
        }
      ],
      "source": [
        "%%time\n",
        "suma = 0\n",
        "for i in Array_aleatorio:\n",
        "    suma += i\n",
        "promedio = suma / len(Array_aleatorio)\n",
        "promedio"
      ],
      "id": "current-edition"
    },
    {
      "cell_type": "code",
      "execution_count": 136,
      "metadata": {
        "colab": {
          "base_uri": "https://localhost:8080/"
        },
        "id": "certain-surveillance",
        "outputId": "7b4b3959-0bad-46d5-dee2-96e4f452e3e6"
      },
      "outputs": [
        {
          "output_type": "stream",
          "name": "stdout",
          "text": [
            "CPU times: user 2.44 ms, sys: 28 µs, total: 2.47 ms\n",
            "Wall time: 2.48 ms\n"
          ]
        },
        {
          "output_type": "execute_result",
          "data": {
            "text/plain": [
              "499.404929"
            ]
          },
          "metadata": {},
          "execution_count": 136
        }
      ],
      "source": [
        "%%time\n",
        "Array_aleatorio.mean()"
      ],
      "id": "certain-surveillance"
    },
    {
      "cell_type": "code",
      "execution_count": 137,
      "metadata": {
        "colab": {
          "base_uri": "https://localhost:8080/"
        },
        "id": "nervous-handy",
        "outputId": "c28d675f-1ab5-408f-c160-5b901286d2e7"
      },
      "outputs": [
        {
          "output_type": "stream",
          "name": "stdout",
          "text": [
            "Suma =  499404929\n",
            "Media o promedio =  499.404929\n",
            "Mínimo =  0\n",
            "Máximo =  999\n",
            "Mediana =  499.0\n",
            "Desviación estándar =  288.6261253724357\n",
            "Varianza =  83305.04024750496\n"
          ]
        }
      ],
      "source": [
        "print(\"Suma = \", Array_aleatorio.sum())\n",
        "print(\"Media o promedio = \", Array_aleatorio.mean())\n",
        "print(\"Mínimo = \", Array_aleatorio.min())\n",
        "print(\"Máximo = \", Array_aleatorio.max())\n",
        "print(\"Mediana = \", np.median(Array_aleatorio))\n",
        "print(\"Desviación estándar = \", np.std(Array_aleatorio))\n",
        "print(\"Varianza = \", np.var(Array_aleatorio))"
      ],
      "id": "nervous-handy"
    },
    {
      "cell_type": "code",
      "execution_count": 142,
      "metadata": {
        "id": "St_JDxe9Ng9l"
      },
      "outputs": [],
      "source": [
        "Array_aleatorio = np.append(Array_aleatorio, np.NaN)\n"
      ],
      "id": "St_JDxe9Ng9l"
    },
    {
      "cell_type": "code",
      "execution_count": 143,
      "metadata": {
        "colab": {
          "base_uri": "https://localhost:8080/"
        },
        "id": "5hZs41oiNqy2",
        "outputId": "7cc01b59-dbb0-433c-c06a-df726c6b6e50"
      },
      "outputs": [
        {
          "output_type": "execute_result",
          "data": {
            "text/plain": [
              "array([126., 110., 980., ...,  68.,  nan,  nan])"
            ]
          },
          "metadata": {},
          "execution_count": 143
        }
      ],
      "source": [
        "Array_aleatorio"
      ],
      "id": "5hZs41oiNqy2"
    },
    {
      "cell_type": "code",
      "execution_count": 144,
      "metadata": {
        "colab": {
          "base_uri": "https://localhost:8080/"
        },
        "id": "QWZakbhWNuXN",
        "outputId": "10321c7b-4acf-4e67-e5ee-067272c6de37"
      },
      "outputs": [
        {
          "output_type": "execute_result",
          "data": {
            "text/plain": [
              "nan"
            ]
          },
          "metadata": {},
          "execution_count": 144
        }
      ],
      "source": [
        "Array_aleatorio.mean()"
      ],
      "id": "QWZakbhWNuXN"
    },
    {
      "cell_type": "code",
      "execution_count": 146,
      "metadata": {
        "colab": {
          "base_uri": "https://localhost:8080/"
        },
        "id": "ZZ_VmlAiNyW5",
        "outputId": "a49bd562-919b-4d06-ddb0-3275340ea40d"
      },
      "outputs": [
        {
          "output_type": "execute_result",
          "data": {
            "text/plain": [
              "499.404929"
            ]
          },
          "metadata": {},
          "execution_count": 146
        }
      ],
      "source": [
        "np.nanmean(Array_aleatorio)\n",
        "#ignora los valores nan"
      ],
      "id": "ZZ_VmlAiNyW5"
    },
    {
      "cell_type": "markdown",
      "metadata": {
        "id": "precious-democrat"
      },
      "source": [
        "#### Operaciones vectorizadas"
      ],
      "id": "precious-democrat"
    },
    {
      "cell_type": "code",
      "execution_count": 127,
      "metadata": {
        "colab": {
          "base_uri": "https://localhost:8080/"
        },
        "id": "XG3P8rExvBo1",
        "outputId": "230a9bb4-f2a5-4554-f0f6-46a95bd86c3c"
      },
      "outputs": [
        {
          "output_type": "stream",
          "name": "stdout",
          "text": [
            "[517 714 114 329 219]\n",
            "[51 63 73  3 44]\n"
          ]
        }
      ],
      "source": [
        "print(Array_1)\n",
        "print(Array_2)"
      ],
      "id": "XG3P8rExvBo1"
    },
    {
      "cell_type": "code",
      "execution_count": 128,
      "metadata": {
        "colab": {
          "base_uri": "https://localhost:8080/"
        },
        "id": "selective-citizen",
        "outputId": "aa0f2936-d38b-4474-ec94-af59d313ae9f"
      },
      "outputs": [
        {
          "output_type": "execute_result",
          "data": {
            "text/plain": [
              "array([568, 777, 187, 332, 263])"
            ]
          },
          "metadata": {},
          "execution_count": 128
        }
      ],
      "source": [
        "Array_1+Array_2"
      ],
      "id": "selective-citizen"
    },
    {
      "cell_type": "code",
      "execution_count": 129,
      "metadata": {
        "colab": {
          "base_uri": "https://localhost:8080/"
        },
        "id": "german-massachusetts",
        "outputId": "83abf712-c734-4206-aecc-4a1dd91d8883"
      },
      "outputs": [
        {
          "output_type": "execute_result",
          "data": {
            "text/plain": [
              "array([568, 777, 187, 332, 263])"
            ]
          },
          "metadata": {},
          "execution_count": 129
        }
      ],
      "source": [
        "np.add(Array_1, Array_2)"
      ],
      "id": "german-massachusetts"
    },
    {
      "cell_type": "code",
      "execution_count": 130,
      "metadata": {
        "colab": {
          "base_uri": "https://localhost:8080/"
        },
        "id": "pressing-window",
        "outputId": "157de1f6-3af2-4cd0-873a-f0bc5f3578e1"
      },
      "outputs": [
        {
          "output_type": "execute_result",
          "data": {
            "text/plain": [
              "array([617, 814, 214, 429, 319])"
            ]
          },
          "metadata": {},
          "execution_count": 130
        }
      ],
      "source": [
        "Array_1+100"
      ],
      "id": "pressing-window"
    },
    {
      "cell_type": "code",
      "execution_count": 131,
      "metadata": {
        "colab": {
          "base_uri": "https://localhost:8080/"
        },
        "id": "played-location",
        "outputId": "f8a46e79-143f-4786-a2f5-44a952022176"
      },
      "outputs": [
        {
          "output_type": "execute_result",
          "data": {
            "text/plain": [
              "90294"
            ]
          },
          "metadata": {},
          "execution_count": 131
        }
      ],
      "source": [
        "# Producto vectorial\n",
        "np.matmul(Array_1, Array_2)"
      ],
      "id": "played-location"
    }
  ],
  "metadata": {
    "colab": {
      "provenance": []
    },
    "kernelspec": {
      "display_name": "Python 3",
      "language": "python",
      "name": "python3"
    },
    "language_info": {
      "codemirror_mode": {
        "name": "ipython",
        "version": 3
      },
      "file_extension": ".py",
      "mimetype": "text/x-python",
      "name": "python",
      "nbconvert_exporter": "python",
      "pygments_lexer": "ipython3",
      "version": "3.8.8"
    }
  },
  "nbformat": 4,
  "nbformat_minor": 5
}